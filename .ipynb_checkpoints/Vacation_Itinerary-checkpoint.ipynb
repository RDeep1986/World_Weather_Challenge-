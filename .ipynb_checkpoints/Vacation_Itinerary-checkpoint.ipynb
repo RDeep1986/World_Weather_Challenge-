{
 "cells": [
  {
   "cell_type": "code",
   "execution_count": null,
   "metadata": {},
   "outputs": [],
   "source": [
    "#Challenge 3 Creat direction layer to drew the route to four cities"
   ]
  },
  {
   "cell_type": "code",
   "execution_count": 1,
   "metadata": {},
   "outputs": [],
   "source": [
    "import pandas as pd\n",
    "import requests\n",
    "import gmaps\n",
    "\n",
    "from config import g_key"
   ]
  },
  {
   "cell_type": "code",
   "execution_count": 2,
   "metadata": {},
   "outputs": [
    {
     "data": {
      "text/plain": [
       "'0.9.0'"
      ]
     },
     "execution_count": 2,
     "metadata": {},
     "output_type": "execute_result"
    }
   ],
   "source": [
    "gmaps.__version__"
   ]
  },
  {
   "cell_type": "code",
   "execution_count": 3,
   "metadata": {},
   "outputs": [],
   "source": [
    "gmaps.configure(api_key=g_key)"
   ]
  },
  {
   "cell_type": "code",
   "execution_count": 4,
   "metadata": {},
   "outputs": [],
   "source": [
    "vacation_df =pd.read_csv(\"data/WeatherPy_Vacation.csv\")"
   ]
  },
  {
   "cell_type": "code",
   "execution_count": 5,
   "metadata": {},
   "outputs": [
    {
     "data": {
      "text/html": [
       "<div>\n",
       "<style scoped>\n",
       "    .dataframe tbody tr th:only-of-type {\n",
       "        vertical-align: middle;\n",
       "    }\n",
       "\n",
       "    .dataframe tbody tr th {\n",
       "        vertical-align: top;\n",
       "    }\n",
       "\n",
       "    .dataframe thead th {\n",
       "        text-align: right;\n",
       "    }\n",
       "</style>\n",
       "<table border=\"1\" class=\"dataframe\">\n",
       "  <thead>\n",
       "    <tr style=\"text-align: right;\">\n",
       "      <th></th>\n",
       "      <th>city_ID</th>\n",
       "      <th>City</th>\n",
       "      <th>Country</th>\n",
       "      <th>Max Temp</th>\n",
       "      <th>Lat</th>\n",
       "      <th>Lng</th>\n",
       "      <th>Hotel Name</th>\n",
       "    </tr>\n",
       "  </thead>\n",
       "  <tbody>\n",
       "    <tr>\n",
       "      <th>0</th>\n",
       "      <td>1</td>\n",
       "      <td>lata</td>\n",
       "      <td>PT</td>\n",
       "      <td>64.99</td>\n",
       "      <td>40.16</td>\n",
       "      <td>-8.33</td>\n",
       "      <td>Casa Maquia</td>\n",
       "    </tr>\n",
       "    <tr>\n",
       "      <th>1</th>\n",
       "      <td>2</td>\n",
       "      <td>miyako</td>\n",
       "      <td>JP</td>\n",
       "      <td>63.46</td>\n",
       "      <td>39.64</td>\n",
       "      <td>141.95</td>\n",
       "      <td>Hotel Route Inn Miyako</td>\n",
       "    </tr>\n",
       "    <tr>\n",
       "      <th>2</th>\n",
       "      <td>3</td>\n",
       "      <td>sioni</td>\n",
       "      <td>GE</td>\n",
       "      <td>71.60</td>\n",
       "      <td>41.99</td>\n",
       "      <td>45.02</td>\n",
       "      <td>საოჯახო სასტუმრო სიონში</td>\n",
       "    </tr>\n",
       "    <tr>\n",
       "      <th>3</th>\n",
       "      <td>4</td>\n",
       "      <td>mahebourg</td>\n",
       "      <td>MU</td>\n",
       "      <td>71.60</td>\n",
       "      <td>-20.41</td>\n",
       "      <td>57.70</td>\n",
       "      <td>Shandrani Beachcomber Resort &amp; Spa</td>\n",
       "    </tr>\n",
       "    <tr>\n",
       "      <th>4</th>\n",
       "      <td>7</td>\n",
       "      <td>beaverlodge</td>\n",
       "      <td>CA</td>\n",
       "      <td>73.40</td>\n",
       "      <td>55.22</td>\n",
       "      <td>-119.44</td>\n",
       "      <td>Side Trax Inn</td>\n",
       "    </tr>\n",
       "  </tbody>\n",
       "</table>\n",
       "</div>"
      ],
      "text/plain": [
       "   city_ID         City Country  Max Temp    Lat     Lng  \\\n",
       "0        1         lata      PT     64.99  40.16   -8.33   \n",
       "1        2       miyako      JP     63.46  39.64  141.95   \n",
       "2        3        sioni      GE     71.60  41.99   45.02   \n",
       "3        4    mahebourg      MU     71.60 -20.41   57.70   \n",
       "4        7  beaverlodge      CA     73.40  55.22 -119.44   \n",
       "\n",
       "                           Hotel Name  \n",
       "0                         Casa Maquia  \n",
       "1              Hotel Route Inn Miyako  \n",
       "2             საოჯახო სასტუმრო სიონში  \n",
       "3  Shandrani Beachcomber Resort & Spa  \n",
       "4                       Side Trax Inn  "
      ]
     },
     "execution_count": 5,
     "metadata": {},
     "output_type": "execute_result"
    }
   ],
   "source": [
    "vacation_df.head()"
   ]
  },
  {
   "cell_type": "code",
   "execution_count": 6,
   "metadata": {},
   "outputs": [],
   "source": [
    "#Using the template add the hotel marks to the heatmao\n",
    "info_box_template =\"\"\"\n",
    "<dl>\n",
    "<dt>Hotel Name</dt><dd>{Hotel Name}</dd>\n",
    "<dt>City</dt><dd>{City}</dd>\n",
    "<dt>Country</dt><dd>{Country}</dd>\n",
    "<dt>Hotel Name</dt><dd>{Hotel Name} at {Max Temp}</dd>\n",
    "\"\"\"\n",
    "hotel_info = [info_box_template.format(**row) for index, row in vacation_df.iterrows()]\n",
    "locations = vacation_df[[\"Lat\", \"Lng\"]]"
   ]
  },
  {
   "cell_type": "code",
   "execution_count": 7,
   "metadata": {},
   "outputs": [
    {
     "data": {
      "application/vnd.jupyter.widget-view+json": {
       "model_id": "31545e2ccfca42b28200364c7b1748ec",
       "version_major": 2,
       "version_minor": 0
      },
      "text/plain": [
       "Figure(layout=FigureLayout(height='420px'))"
      ]
     },
     "metadata": {},
     "output_type": "display_data"
    }
   ],
   "source": [
    "marker_layer = gmaps.marker_layer(locations, info_box_content=hotel_info)\n",
    "fig = gmaps.figure()\n",
    "fig.add_layer(marker_layer)\n",
    "fig"
   ]
  },
  {
   "cell_type": "code",
   "execution_count": 8,
   "metadata": {},
   "outputs": [],
   "source": [
    "vacation_start = vacation_df.loc[vacation_df[\"City\"] == \"half moon bay\"]\n",
    "vacation_end = vacation_df.loc[vacation_df[\"City\"]== \"pacifica\"]\n",
    "vacation_stop1 = vacation_df.loc[vacation_df[\"City\"]== \"edson\"]\n",
    "vacation_stop2 = vacation_df.loc[vacation_df[\"City\"]== \"bud\"]"
   ]
  },
  {
   "cell_type": "code",
   "execution_count": 9,
   "metadata": {},
   "outputs": [
    {
     "name": "stdout",
     "output_type": "stream",
     "text": [
      "(37.46, -122.43)\n",
      "(37.61, -122.49)\n",
      "(53.58, -116.44)\n",
      "(39.45, -86.18)\n"
     ]
    }
   ],
   "source": [
    "start = vacation_start [\"Lat\"].values [0], vacation_start[\"Lng\"].values[0]\n",
    "end = vacation_end [\"Lat\"].values [0], vacation_end[\"Lng\"].values[0]\n",
    "stop1 = vacation_stop1 [\"Lat\"].values [0], vacation_stop1[\"Lng\"].values[0]\n",
    "stop2 = vacation_stop2 [\"Lat\"].values [0], vacation_stop2[\"Lng\"].values[0]\n",
    "print(start)\n",
    "print(end)\n",
    "print(stop1)\n",
    "print(stop2)"
   ]
  },
  {
   "cell_type": "code",
   "execution_count": 12,
   "metadata": {},
   "outputs": [
    {
     "ename": "NameError",
     "evalue": "name 'vaction_itinerary' is not defined",
     "output_type": "error",
     "traceback": [
      "\u001b[1;31m---------------------------------------------------------------------------\u001b[0m",
      "\u001b[1;31mNameError\u001b[0m                                 Traceback (most recent call last)",
      "\u001b[1;32m<ipython-input-12-0de27f25631e>\u001b[0m in \u001b[0;36m<module>\u001b[1;34m\u001b[0m\n\u001b[0;32m      3\u001b[0m                                             \u001b[0mtravel_mode\u001b[0m \u001b[1;33m=\u001b[0m \u001b[1;34m\"DRIVING\"\u001b[0m\u001b[1;33m\u001b[0m\u001b[1;33m\u001b[0m\u001b[0m\n\u001b[0;32m      4\u001b[0m )\n\u001b[1;32m----> 5\u001b[1;33m \u001b[0mfig\u001b[0m\u001b[1;33m.\u001b[0m\u001b[0madd_layer\u001b[0m\u001b[1;33m(\u001b[0m\u001b[0mvaction_itinerary\u001b[0m\u001b[1;33m)\u001b[0m\u001b[1;33m\u001b[0m\u001b[1;33m\u001b[0m\u001b[0m\n\u001b[0m\u001b[0;32m      6\u001b[0m \u001b[0mfig\u001b[0m\u001b[1;33m\u001b[0m\u001b[1;33m\u001b[0m\u001b[0m\n",
      "\u001b[1;31mNameError\u001b[0m: name 'vaction_itinerary' is not defined"
     ]
    }
   ],
   "source": [
    "fig = gmaps.figure()\n",
    "vacation_itinerary = gmaps.directions_layer(start, end, waypoints =[stop1, stop2], \n",
    "                                            travel_mode = \"DRIVING\"\n",
    ")\n",
    "fig.add_layer(vaction_itinerary)\n",
    "fig"
   ]
  },
  {
   "cell_type": "code",
   "execution_count": null,
   "metadata": {},
   "outputs": [],
   "source": []
  }
 ],
 "metadata": {
  "kernelspec": {
   "display_name": "Python 3",
   "language": "python",
   "name": "python3"
  },
  "language_info": {
   "codemirror_mode": {
    "name": "ipython",
    "version": 3
   },
   "file_extension": ".py",
   "mimetype": "text/x-python",
   "name": "python",
   "nbconvert_exporter": "python",
   "pygments_lexer": "ipython3",
   "version": "3.7.6"
  }
 },
 "nbformat": 4,
 "nbformat_minor": 4
}
