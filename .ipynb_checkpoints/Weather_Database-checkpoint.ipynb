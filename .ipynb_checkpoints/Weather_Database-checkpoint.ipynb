{
 "cells": [
  {
   "cell_type": "code",
   "execution_count": 63,
   "metadata": {},
   "outputs": [],
   "source": [
    "# Part 1 is how to genereate the CSV.\n",
    "#Part 1 Weater_database Challenge "
   ]
  },
  {
   "cell_type": "markdown",
   "metadata": {},
   "source": [
    "# Part 1 Get the Weather Description and Amount of Precipitation for Each City  "
   ]
  },
  {
   "cell_type": "code",
   "execution_count": null,
   "metadata": {},
   "outputs": [],
   "source": [
    "from citipy import citipy\n",
    "import numpy as np\n",
    "import pandas as pd"
   ]
  },
  {
   "cell_type": "code",
   "execution_count": null,
   "metadata": {},
   "outputs": [],
   "source": [
    "# Create a set of random latitudes and logitudes combinations\n",
    "\n",
    "lats = np.random.uniform(low=-90.000, high=90.000, size=1500)\n",
    "lngs = np.random.uniform(low=-180.000, high=180.000, size=1500)\n",
    "lat_lngs=zip(lats,lngs)"
   ]
  },
  {
   "cell_type": "code",
   "execution_count": null,
   "metadata": {},
   "outputs": [],
   "source": [
    "#Add the latitudes and longitudes to a list\n",
    "coordinates = list(lat_lngs)"
   ]
  },
  {
   "cell_type": "code",
   "execution_count": null,
   "metadata": {},
   "outputs": [],
   "source": [
    "# Create a list for holding the cities \n",
    "cities =[]\n",
    "\n",
    "#identify nearest city for each latitude and longitude combination\n",
    "for coordinate in coordinates:\n",
    "    city = citipy.nearest_city(coordinate[0], coordinate[1]).city_name\n",
    "    \n",
    "    #if the city is unique then add it to cities list\n",
    "    \n",
    "    if city not in cities:\n",
    "        cities.append(city)\n",
    "len(cities)"
   ]
  },
  {
   "cell_type": "code",
   "execution_count": null,
   "metadata": {},
   "outputs": [],
   "source": [
    "# import the request library\n",
    "import requests\n",
    "from datetime import datetime\n",
    "from config import weather_api_key"
   ]
  },
  {
   "cell_type": "code",
   "execution_count": null,
   "metadata": {},
   "outputs": [],
   "source": [
    "url = f\"http://api.openweathermap.org/data/2.5/weather?units=Imperial&APPID={weather_api_key}\"\n"
   ]
  },
  {
   "cell_type": "code",
   "execution_count": null,
   "metadata": {},
   "outputs": [],
   "source": [
    "# list of city data\n",
    "city_data =[]\n",
    "\n",
    "#Print to logger\n",
    "print(\"Beginning Data Retriaval\")\n",
    "print(\"_\" * 25)\n",
    "\n",
    "# create a counter\n",
    "record_count = 1\n",
    "set_count = 1\n",
    "for index, city in enumerate(cities):\n",
    "    \n",
    "    #Group the cities in sets of 50 for logging purpose\n",
    "    if(index % 50 ==0 and index >=50):\n",
    "        set_count += 1\n",
    "        record_count = 1\n",
    "        \n",
    "        #Create endpoint URL with each city\n",
    "    city_url = f'{url}&q={city.replace(\" \", \"+\")}'\n",
    "    \n",
    "     #if you dont want to show the data\n",
    "    print (f\"Processing Record {record_count} of set {set_count} | {city}\")\n",
    "        \n",
    "    record_count += 1\n",
    "        \n",
    "    try:\n",
    "        city_weather = requests.get(city_url).json()\n",
    "        #parse out the max, tem, humidity and cooudness\n",
    "        city_lat = city_weather[\"coord\"][\"lat\"]\n",
    "        city_lng = city_weather[\"coord\"][\"lng\"]\n",
    "        city_max_temp = city_weather[\"main\"][\"temp_max\"]\n",
    "        city_humidity = city_weather[\"main\"][\"humidity\"]\n",
    "        city_clouds = city_weather[\"clouds\"][\"all\"]\n",
    "        city_wind = city_weather[\"wind\"][\"speed\"]\n",
    "        city_country = city_weather[\"sys\"][\"country\"]\n",
    "        city_weather_description = city_weather[\"weather\"] [0] [\"description\"]\n",
    "        \n",
    "        try:\n",
    "            City_rain_inches =city_weather[\"rain\"][\"1h\"]\n",
    "        except KeyError:\n",
    "            city_rain_inches = 0\n",
    "        try:\n",
    "            city_snow_inches = city_weather[\"rain\"][\"1h\"]\n",
    "        except KeyError:\n",
    "            city_snow_inches = 0\n",
    "        \n",
    "        #Append the city information into city_data\n",
    "        city_data.append(\n",
    "        {\n",
    "            \"City\": city,\n",
    "            \"Lat\": city_lat,\n",
    "            \"Lng\": city_lng,\n",
    "            \"Max Temp\": city_max_temp,\n",
    "            \"Current Description\": city_weather_description,\n",
    "            \"Rain (inches)\": city_rain_inches,\n",
    "            \"Snow (inches)\": city_snow_inches,\n",
    "            \"Humidity\": city_humidity,\n",
    "            \"Cloudiness\": city_wind,\n",
    "            \"Wind Speed\": city_wind,\n",
    "            \"Country\": city_country\n",
    "        })\n",
    "    except:\n",
    "        print(\"City not found. Skipping....\")\n",
    "        pass\n",
    "#Indicate that the Data Loading is complete\n",
    "print (\"_\" * 25)\n",
    "print(\"Data Retrieval Complete\")\n"
   ]
  },
  {
   "cell_type": "code",
   "execution_count": null,
   "metadata": {},
   "outputs": [],
   "source": []
  },
  {
   "cell_type": "code",
   "execution_count": null,
   "metadata": {},
   "outputs": [],
   "source": []
  },
  {
   "cell_type": "code",
   "execution_count": null,
   "metadata": {},
   "outputs": [],
   "source": []
  }
 ],
 "metadata": {
  "kernelspec": {
   "display_name": "Python 3",
   "language": "python",
   "name": "python3"
  },
  "language_info": {
   "codemirror_mode": {
    "name": "ipython",
    "version": 3
   },
   "file_extension": ".py",
   "mimetype": "text/x-python",
   "name": "python",
   "nbconvert_exporter": "python",
   "pygments_lexer": "ipython3",
   "version": "3.7.6"
  }
 },
 "nbformat": 4,
 "nbformat_minor": 4
}
